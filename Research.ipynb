{
  "cells": [
    {
      "cell_type": "markdown",
      "metadata": {},
      "source": [
        "### Libraries installing and import"
      ]
    },
    {
      "cell_type": "code",
      "execution_count": 1,
      "metadata": {
        "colab": {
          "base_uri": "https://localhost:8080/",
          "height": 736
        },
        "id": "hxdCFMWt_pbo",
        "outputId": "52be2093-c652-469a-9994-06f46e869137"
      },
      "outputs": [
        {
          "name": "stdout",
          "output_type": "stream",
          "text": [
            "Requirement already satisfied: python-binance in c:\\users\\pc\\anaconda3\\envs\\marketresearch\\lib\\site-packages (1.0.19)\n",
            "Requirement already satisfied: requests in c:\\users\\pc\\anaconda3\\envs\\marketresearch\\lib\\site-packages (from python-binance) (2.31.0)\n",
            "Requirement already satisfied: six in c:\\users\\pc\\anaconda3\\envs\\marketresearch\\lib\\site-packages (from python-binance) (1.16.0)\n",
            "Requirement already satisfied: dateparser in c:\\users\\pc\\anaconda3\\envs\\marketresearch\\lib\\site-packages (from python-binance) (1.2.0)\n",
            "Requirement already satisfied: aiohttp in c:\\users\\pc\\anaconda3\\envs\\marketresearch\\lib\\site-packages (from python-binance) (3.9.3)\n",
            "Requirement already satisfied: ujson in c:\\users\\pc\\anaconda3\\envs\\marketresearch\\lib\\site-packages (from python-binance) (5.9.0)\n",
            "Requirement already satisfied: websockets in c:\\users\\pc\\anaconda3\\envs\\marketresearch\\lib\\site-packages (from python-binance) (12.0)\n",
            "Requirement already satisfied: pycryptodome in c:\\users\\pc\\anaconda3\\envs\\marketresearch\\lib\\site-packages (from python-binance) (3.20.0)\n",
            "Requirement already satisfied: aiosignal>=1.1.2 in c:\\users\\pc\\anaconda3\\envs\\marketresearch\\lib\\site-packages (from aiohttp->python-binance) (1.3.1)\n",
            "Requirement already satisfied: attrs>=17.3.0 in c:\\users\\pc\\anaconda3\\envs\\marketresearch\\lib\\site-packages (from aiohttp->python-binance) (23.2.0)\n",
            "Requirement already satisfied: frozenlist>=1.1.1 in c:\\users\\pc\\anaconda3\\envs\\marketresearch\\lib\\site-packages (from aiohttp->python-binance) (1.4.1)\n",
            "Requirement already satisfied: multidict<7.0,>=4.5 in c:\\users\\pc\\anaconda3\\envs\\marketresearch\\lib\\site-packages (from aiohttp->python-binance) (6.0.5)\n",
            "Requirement already satisfied: yarl<2.0,>=1.0 in c:\\users\\pc\\anaconda3\\envs\\marketresearch\\lib\\site-packages (from aiohttp->python-binance) (1.9.4)\n",
            "Requirement already satisfied: python-dateutil in c:\\users\\pc\\anaconda3\\envs\\marketresearch\\lib\\site-packages (from dateparser->python-binance) (2.9.0)\n",
            "Requirement already satisfied: pytz in c:\\users\\pc\\anaconda3\\envs\\marketresearch\\lib\\site-packages (from dateparser->python-binance) (2024.1)\n",
            "Requirement already satisfied: regex!=2019.02.19,!=2021.8.27 in c:\\users\\pc\\anaconda3\\envs\\marketresearch\\lib\\site-packages (from dateparser->python-binance) (2023.12.25)\n",
            "Requirement already satisfied: tzlocal in c:\\users\\pc\\anaconda3\\envs\\marketresearch\\lib\\site-packages (from dateparser->python-binance) (5.2)\n",
            "Requirement already satisfied: charset-normalizer<4,>=2 in c:\\users\\pc\\anaconda3\\envs\\marketresearch\\lib\\site-packages (from requests->python-binance) (3.3.2)\n",
            "Requirement already satisfied: idna<4,>=2.5 in c:\\users\\pc\\anaconda3\\envs\\marketresearch\\lib\\site-packages (from requests->python-binance) (3.6)\n",
            "Requirement already satisfied: urllib3<3,>=1.21.1 in c:\\users\\pc\\anaconda3\\envs\\marketresearch\\lib\\site-packages (from requests->python-binance) (2.2.1)\n",
            "Requirement already satisfied: certifi>=2017.4.17 in c:\\users\\pc\\anaconda3\\envs\\marketresearch\\lib\\site-packages (from requests->python-binance) (2024.2.2)\n",
            "Requirement already satisfied: tzdata in c:\\users\\pc\\anaconda3\\envs\\marketresearch\\lib\\site-packages (from tzlocal->dateparser->python-binance) (2024.1)\n",
            "Requirement already satisfied: numpy in c:\\users\\pc\\anaconda3\\envs\\marketresearch\\lib\\site-packages (1.26.4)\n",
            "Requirement already satisfied: pandas in c:\\users\\pc\\anaconda3\\envs\\marketresearch\\lib\\site-packages (2.2.1)\n",
            "Requirement already satisfied: numpy<2,>=1.26.0 in c:\\users\\pc\\anaconda3\\envs\\marketresearch\\lib\\site-packages (from pandas) (1.26.4)\n",
            "Requirement already satisfied: python-dateutil>=2.8.2 in c:\\users\\pc\\anaconda3\\envs\\marketresearch\\lib\\site-packages (from pandas) (2.9.0)\n",
            "Requirement already satisfied: pytz>=2020.1 in c:\\users\\pc\\anaconda3\\envs\\marketresearch\\lib\\site-packages (from pandas) (2024.1)\n",
            "Requirement already satisfied: tzdata>=2022.7 in c:\\users\\pc\\anaconda3\\envs\\marketresearch\\lib\\site-packages (from pandas) (2024.1)\n",
            "Requirement already satisfied: six>=1.5 in c:\\users\\pc\\anaconda3\\envs\\marketresearch\\lib\\site-packages (from python-dateutil>=2.8.2->pandas) (1.16.0)\n",
            "Requirement already satisfied: matplotlib in c:\\users\\pc\\anaconda3\\envs\\marketresearch\\lib\\site-packages (3.8.3)\n",
            "Requirement already satisfied: contourpy>=1.0.1 in c:\\users\\pc\\anaconda3\\envs\\marketresearch\\lib\\site-packages (from matplotlib) (1.2.0)\n",
            "Requirement already satisfied: cycler>=0.10 in c:\\users\\pc\\anaconda3\\envs\\marketresearch\\lib\\site-packages (from matplotlib) (0.12.1)\n",
            "Requirement already satisfied: fonttools>=4.22.0 in c:\\users\\pc\\anaconda3\\envs\\marketresearch\\lib\\site-packages (from matplotlib) (4.49.0)\n",
            "Requirement already satisfied: kiwisolver>=1.3.1 in c:\\users\\pc\\anaconda3\\envs\\marketresearch\\lib\\site-packages (from matplotlib) (1.4.5)\n",
            "Requirement already satisfied: numpy<2,>=1.21 in c:\\users\\pc\\anaconda3\\envs\\marketresearch\\lib\\site-packages (from matplotlib) (1.26.4)\n",
            "Requirement already satisfied: packaging>=20.0 in c:\\users\\pc\\anaconda3\\envs\\marketresearch\\lib\\site-packages (from matplotlib) (23.2)\n",
            "Requirement already satisfied: pillow>=8 in c:\\users\\pc\\anaconda3\\envs\\marketresearch\\lib\\site-packages (from matplotlib) (10.2.0)\n",
            "Requirement already satisfied: pyparsing>=2.3.1 in c:\\users\\pc\\anaconda3\\envs\\marketresearch\\lib\\site-packages (from matplotlib) (3.1.2)\n",
            "Requirement already satisfied: python-dateutil>=2.7 in c:\\users\\pc\\anaconda3\\envs\\marketresearch\\lib\\site-packages (from matplotlib) (2.9.0)\n",
            "Requirement already satisfied: six>=1.5 in c:\\users\\pc\\anaconda3\\envs\\marketresearch\\lib\\site-packages (from python-dateutil>=2.7->matplotlib) (1.16.0)\n",
            "Requirement already satisfied: scipy in c:\\users\\pc\\anaconda3\\envs\\marketresearch\\lib\\site-packages (1.12.0)\n",
            "Requirement already satisfied: numpy<1.29.0,>=1.22.4 in c:\\users\\pc\\anaconda3\\envs\\marketresearch\\lib\\site-packages (from scipy) (1.26.4)\n",
            "Requirement already satisfied: scikit-learn in c:\\users\\pc\\anaconda3\\envs\\marketresearch\\lib\\site-packages (1.4.1.post1)\n",
            "Requirement already satisfied: numpy<2.0,>=1.19.5 in c:\\users\\pc\\anaconda3\\envs\\marketresearch\\lib\\site-packages (from scikit-learn) (1.26.4)\n",
            "Requirement already satisfied: scipy>=1.6.0 in c:\\users\\pc\\anaconda3\\envs\\marketresearch\\lib\\site-packages (from scikit-learn) (1.12.0)\n",
            "Requirement already satisfied: joblib>=1.2.0 in c:\\users\\pc\\anaconda3\\envs\\marketresearch\\lib\\site-packages (from scikit-learn) (1.3.2)\n",
            "Requirement already satisfied: threadpoolctl>=2.0.0 in c:\\users\\pc\\anaconda3\\envs\\marketresearch\\lib\\site-packages (from scikit-learn) (3.3.0)\n"
          ]
        }
      ],
      "source": [
        "!pip install python-binance\n",
        "!pip install numpy\n",
        "!pip install pandas\n",
        "!pip install matplotlib\n",
        "!pip install scipy\n",
        "!pip install scikit-learn\n",
        "\n",
        "from binance.client import Client\n",
        "import pandas as pd\n",
        "import numpy as np\n",
        "import matplotlib.pyplot as plt\n",
        "from sklearn.preprocessing import StandardScaler\n",
        "# connection without specific keys, can only read spot data\n",
        "client = Client() "
      ]
    },
    {
      "cell_type": "markdown",
      "metadata": {
        "id": "1XDhmheK8tDX"
      },
      "source": [
        "### Get data\n",
        "Dataframe will have info about one coin, from binance exchange"
      ]
    },
    {
      "cell_type": "code",
      "execution_count": 2,
      "metadata": {
        "id": "_GV0qukE_cwe"
      },
      "outputs": [],
      "source": [
        "def beautify(coin_historical_klines):\n",
        "    coin_historical_klines=pd.DataFrame(coin_historical_klines)\n",
        "    coin_historical_klines.columns=['TimeOpen', 'Open', 'High', 'Low', 'Close', 'Volume in Coin','TimeClose','Volume in $','# trades','coins marketbought', '$ spent to marketbuy', 'ignore']\n",
        "    coin_historical_klines=coin_historical_klines.drop('ignore', axis=1)\n",
        "    return coin_historical_klines\n",
        "\n",
        "coin2_klines=client.get_historical_klines(\"BTCUSDT\", Client.KLINE_INTERVAL_1MINUTE, \"5 minute ago UTC\")\n",
        "coin2_klines=beautify(coin2_klines)"
      ]
    },
    {
      "cell_type": "markdown",
      "metadata": {
        "id": "aCfjDAlK-bbv"
      },
      "source": [
        "### Learn data\n"
      ]
    },
    {
      "cell_type": "code",
      "execution_count": 3,
      "metadata": {
        "id": "4wC-RCoW_nPp"
      },
      "outputs": [
        {
          "name": "stdout",
          "output_type": "stream",
          "text": [
            "        TimeOpen            Open            High             Low  \\\n",
            "0  1711605000000  69665.57000000  69734.69000000  69665.56000000   \n",
            "1  1711605060000  69734.69000000  69734.69000000  69660.17000000   \n",
            "2  1711605120000  69663.62000000  69666.82000000  69663.62000000   \n",
            "3  1711605180000  69666.76000000  69666.76000000  69629.34000000   \n",
            "4  1711605240000  69661.69000000  69677.48000000  69661.69000000   \n",
            "\n",
            "            Close Volume in Coin      TimeClose       Volume in $  # trades  \\\n",
            "0  69734.68000000    18.05522000  1711605059999  1258680.10259750      1019   \n",
            "1  69663.62000000    28.82365000  1711605119999  2008700.27441150      1301   \n",
            "2  69666.76000000     4.74400000  1711605179999   330498.73753030       528   \n",
            "3  69661.70000000    19.80198000  1711605239999  1379068.57349660       860   \n",
            "4  69677.48000000     2.87628000  1711605299999   200378.42774780       241   \n",
            "\n",
            "  coins marketbought $ spent to marketbuy  \n",
            "0        13.38563000      933148.00255860  \n",
            "1        16.38057000     1141494.27377350  \n",
            "2         1.84725000      128691.71021520  \n",
            "3        12.77518000      889645.17864120  \n",
            "4         1.58498000      110420.68903600  \n"
          ]
        }
      ],
      "source": [
        "print(coin2_klines.head())"
      ]
    },
    {
      "cell_type": "markdown",
      "metadata": {
        "id": "eRnet-f3Dn-9"
      },
      "source": [
        "\n",
        "#### Columns explanation\n",
        "\n",
        "*TimeOpen* - starting time of the candlestick interval\n",
        "\n",
        "*Open* - price at the beginning of the time interval\n",
        "\n",
        "*High* - highest price reached during the time interval\n",
        "\n",
        "*Low* - lowest price reached during the time interval\n",
        "\n",
        "*Close* - price at the end of the time interval\n",
        "\n",
        "*Volume in Coin* - total trading volume of the base (coin) cryptocurrency\n",
        "\n",
        "*TimeClose* - ending time of the candlestick interval\n",
        "\n",
        "*Volume in $* - total trading volume of the quote (usdt) cryptocurrency\n",
        "\n",
        "*# trades* - total number of trades executed\n",
        "\n",
        "*coins marketbought* - coins bought via marketorder = coins taken from market\n",
        "\n",
        "*$ spent to marketbuy* - usdt spent to buy via marketorder = usdt given to market\n",
        "\n",
        "*ignore* - not relevant for analysis, dropped"
      ]
    },
    {
      "cell_type": "markdown",
      "metadata": {
        "id": "RaKOijS4WoyA"
      },
      "source": [
        "### Volume - Price\n",
        "\n",
        "Since fair market is a combination of giant amount of random trades, price distribution is *stochastic*, in general. Means it moves randomly, but can be described with probability distributions. At different phases, distribution differ. They will be analyzed next."
      ]
    },
    {
      "cell_type": "markdown",
      "metadata": {
        "id": "4XBwqItnK0Zc"
      },
      "source": [
        "#### Accumulation, Distribution, Flat\n",
        "\n",
        "Accumulation - period, when base asset (coin) is taken from market by marketmakers.\n",
        "Distribution - period, when base asset (coin) is given to market from marketmakers.\n",
        "Flat - period, when price has low volatility. Usually happend at accumulation or distribution.\n",
        "\n",
        "Flat - perfect example of stochastic property: price moves within some range, with some distribution, mostly affected by random trades = noise. Common assumption in statistics is fact that noise is distributed normally. Lets check it for cryptocurrencies market in flat period.\n",
        "\n",
        "Hypothesis 0: Prices in flat are distributed normally\n",
        "\n",
        "Hypothesis 1: Prices distributed not normally\n",
        "\n",
        "Test via kolmogorov-smirnov."
      ]
    },
    {
      "cell_type": "code",
      "execution_count": 4,
      "metadata": {
        "id": "yOY33zRLDGEd"
      },
      "outputs": [
        {
          "data": {
            "image/png": "[encoded data removed]",
            "text/plain": [
              "<Figure size 640x480 with 1 Axes>"
            ]
          },
          "metadata": {},
          "output_type": "display_data"
        },
        {
          "name": "stdout",
          "output_type": "stream",
          "text": [
            "prices:  60364.7 63676.35\n"
          ]
        },
        {
          "data": {
            "text/plain": [
              "KstestResult(statistic=array([0.06445316]), pvalue=array([0.86782007]), statistic_location=array([0.52721812]), statistic_sign=array([1.]))"
            ]
          },
          "execution_count": 4,
          "metadata": {},
          "output_type": "execute_result"
        }
      ],
      "source": [
        "from scipy.stats import kstest\n",
        "from scipy.stats import norm, expon\n",
        "\n",
        "def bin_volume(coin_dataframe):\n",
        "    coin_dataframe['Average Price'] = (coin_dataframe['Open'].astype(float) + coin_dataframe['Close'].astype(float)) / 2\n",
        "    \n",
        "    # Define bins based on min and max values of 'Low' and 'High' columns\n",
        "    min_price = coin_dataframe['Low'].astype(float).min()\n",
        "    max_price = coin_dataframe['High'].astype(float).max()\n",
        "    bins = np.linspace(min_price, max_price, 101)  # 100 equally distributed bins, for kstest\n",
        "    \n",
        "    # Assign each row to a bin based on the average price\n",
        "    coin_dataframe['Bin #'] = np.digitize(coin_dataframe['Average Price'], bins)\n",
        "    \n",
        "    # Group by bin and calculate the total volume in that bin\n",
        "    coin_dataframe['Volume in Coin'] = coin_dataframe['Volume in Coin'].astype(float)\n",
        "    total_volume_by_bin = coin_dataframe.groupby('Bin #')['Volume in Coin'].sum()\n",
        "    return bins, total_volume_by_bin\n",
        "\n",
        "#get data. This is last period of flat\n",
        "btc_flat1=client.get_historical_klines(\"BTCUSDT\", Client.KLINE_INTERVAL_5MINUTE, \"29 Feb, 2024\", \"4 Mar, 2024\")\n",
        "btc_flat1=beautify(btc_flat1)\n",
        "bins_prices, total_volume_by_bin=bin_volume(btc_flat1)\n",
        "\n",
        "# plot volume - bin graph\n",
        "plt.bar(total_volume_by_bin.index, total_volume_by_bin.values)\n",
        "plt.xlabel('Bins #')\n",
        "plt.ylabel('Volume in Coin')\n",
        "plt.title('Price-Volume Histogram')\n",
        "plt.show()\n",
        "print(\"prices: \",bins_prices[0],bins_prices[-1])\n",
        "\n",
        "# kolmogorov-smirnov test\n",
        "flat_scaler = StandardScaler()\n",
        "total_volume_by_bin_normalized = flat_scaler.fit_transform(total_volume_by_bin.values.reshape(-1,1))\n",
        "kstest(total_volume_by_bin_normalized, norm.cdf)"
      ]
    },
    {
      "cell_type": "markdown",
      "metadata": {
        "id": "j3vNrH8WRGaS"
      },
      "source": [
        "We failed to reject H0 with pvalue=0.86. Also we see largest volume in middle and downtrend on both sides, with some outliers. Actually, this spikes are main factor of volatility - these are stoplosses/liqudations of traders. So, they always will exist in data. (Consider erase them?). < draw kde for fun >\n",
        "\n",
        "This ineffectivity can be used as advantage in purpose to understand at which price trader should open his position (at extremums). \n",
        "A lot of traders do this mistake - they execute their plan with market order:\n",
        "- with a high chance of being in majority (majority loses);\n",
        "- not best entry price => less profit+higher loss => lower reward/risk ratio;\n",
        "- their position will be in unrealised loss most of the time, because of market volatility."
      ]
    },
    {
      "cell_type": "markdown",
      "metadata": {
        "id": "JLmmdVF5MtUs"
      },
      "source": [
        "#### Pump, dump, manipulation\n",
        "\n",
        "During this high *volatility* period, market maker opens or closes his positions. In other words, when guy with big pockets whats to immidiatly buy or sell, large price movement is happened.\n",
        "\n",
        "In this case, price distribution is highly depended on orderbook, which cannot be predicted *in advance*. Thus, probability distribution cannot be described properly. But still, when this volatility happening, it is possible to make good trades.\n",
        "\n",
        "Lets check if it can be normal/chi-squared/exponential"
      ]
    },
    {
      "cell_type": "code",
      "execution_count": 5,
      "metadata": {
        "id": "2VkhMUPfTFLI"
      },
      "outputs": [
        {
          "data": {
            "image/png": "[encoded data removed]",
            "text/plain": [
              "<Figure size 640x480 with 1 Axes>"
            ]
          },
          "metadata": {},
          "output_type": "display_data"
        },
        {
          "name": "stdout",
          "output_type": "stream",
          "text": [
            "prices:  50901.44 64000.0\n",
            "KstestResult(statistic=array([0.19108567]), pvalue=array([0.00368295]), statistic_location=array([-0.39986327]), statistic_sign=array([1.]))\n"
          ]
        }
      ],
      "source": [
        "btc_pump1=client.get_historical_klines(\"BTCUSDT\", Client.KLINE_INTERVAL_5MINUTE, \"26 Feb, 2024\", \"29 Feb, 2024\")\n",
        "btc_pump1=beautify(btc_pump1)\n",
        "bins_prices, total_volume_by_bin=bin_volume(btc_pump1)\n",
        "\n",
        "# plot volume - bin graph\n",
        "plt.bar(total_volume_by_bin.index, total_volume_by_bin.values)\n",
        "plt.xlabel('Bins #')\n",
        "plt.ylabel('Volume in Coin')\n",
        "plt.title('Price-Volume Histogram')\n",
        "plt.show()\n",
        "print(\"prices: \",bins_prices[0],bins_prices[-1])\n",
        "\n",
        "# kolmogorov-smirnov test\n",
        "total_volume_by_bin_normalized = flat_scaler.fit_transform(total_volume_by_bin.values.reshape(-1,1))\n",
        "print(kstest(total_volume_by_bin_normalized, norm.cdf))"
      ]
    },
    {
      "cell_type": "markdown",
      "metadata": {},
      "source": [
        "H0 rejected, data is not normally, nor exponentially distributed (0.00 pvalue), and in plot we see that also. Data is very spiky. 2 large values. So, we cannot say that this data is comes from some distribution."
      ]
    },
    {
      "cell_type": "markdown",
      "metadata": {
        "id": "AOQJsAcfTGAx"
      },
      "source": [
        "### Volume - Volatility correlation\n",
        "\n",
        "Btc market is fair market. By fair i mean there is no one marketmaker, just lots of traders and algorithms. Majority of other coins (altcoins) have one big marketmaker, and since he has largest portion of coins and money, price is mostly controlled by him.\n",
        "\n",
        "Hypothesis: with large volatility, we have large volume, and vice versa. So, lets check, if this parameters are correlating on fair market, and on market with marketmaker. Consider low/high capitalisation coins."
      ]
    },
    {
      "cell_type": "markdown",
      "metadata": {
        "id": "irnu3AAIWb9U"
      },
      "source": [
        "#### High cap, no marketmaker (btc)"
      ]
    },
    {
      "cell_type": "code",
      "execution_count": 6,
      "metadata": {
        "id": "EWLnU2h1Zh6t"
      },
      "outputs": [
        {
          "name": "stdout",
          "output_type": "stream",
          "text": [
            "PearsonRResult(statistic=0.8829937889363658, pvalue=3.720594624346233e-181)\n",
            "PearsonRResult(statistic=0.860272311879042, pvalue=1.4050912349431925e-161)\n",
            "SignificanceResult(statistic=0.8778683585726644, pvalue=2.1101431221906727e-176)\n",
            "SignificanceResult(statistic=0.8639756672423239, pvalue=1.5931677567685989e-164)\n"
          ]
        }
      ],
      "source": [
        "from scipy import stats\n",
        "btc_3months=client.get_historical_klines(\"BTCUSDT\", Client.KLINE_INTERVAL_4HOUR, \"1 Dec, 2023\", \"1 Mar, 2024\")\n",
        "btc_3months=beautify(btc_3months)\n",
        "\n",
        "btc_3months['max change in %']=abs(btc_3months['High'].astype(float)/btc_3months['Low'].astype(float)-1)*100\n",
        "# Person correlation (consider feature value)\n",
        "print(stats.pearsonr(btc_3months['max change in %'], btc_3months['Volume in Coin'].astype(float)))\n",
        "print(stats.pearsonr(btc_3months['max change in %'], btc_3months['Volume in $'].astype(float)))\n",
        "# Sperman correlation (consider just positive/negative change)\n",
        "print(stats.spearmanr(btc_3months['max change in %'], btc_3months['Volume in Coin'].astype(float)))\n",
        "print(stats.spearmanr(btc_3months['max change in %'], btc_3months['Volume in $'].astype(float)))"
      ]
    },
    {
      "cell_type": "markdown",
      "metadata": {},
      "source": [
        "Indeed, high volatility is highly correlated with traded volume on fair market. Also correaltions have very same values between each other."
      ]
    },
    {
      "cell_type": "markdown",
      "metadata": {},
      "source": [
        "#### High cap, one marketmaker (trb)"
      ]
    },
    {
      "cell_type": "code",
      "execution_count": 7,
      "metadata": {},
      "outputs": [
        {
          "name": "stdout",
          "output_type": "stream",
          "text": [
            "PearsonRResult(statistic=0.7039178251803742, pvalue=5.185772867728397e-83)\n",
            "PearsonRResult(statistic=0.8480707858953533, pvalue=1.918103198237404e-152)\n",
            "SignificanceResult(statistic=0.8603235393358023, pvalue=1.2809777484371878e-161)\n",
            "SignificanceResult(statistic=0.8482834903523728, pvalue=1.3507706432083864e-152)\n"
          ]
        }
      ],
      "source": [
        "trb_4months=client.get_historical_klines(\"TRBUSDT\", Client.KLINE_INTERVAL_4HOUR, \"1 Dec, 2023\", \"1 Mar, 2024\") \n",
        "trb_4months=beautify(trb_4months)\n",
        "\n",
        "trb_4months['max change in %']=abs(trb_4months['High'].astype(float)/trb_4months['Low'].astype(float)-1)*100\n",
        "\n",
        "print(stats.pearsonr(trb_4months['max change in %'], trb_4months['Volume in Coin'].astype(float)))\n",
        "print(stats.pearsonr(trb_4months['max change in %'], trb_4months['Volume in $'].astype(float)))\n",
        "\n",
        "print(stats.spearmanr(trb_4months['max change in %'], trb_4months['Volume in Coin'].astype(float)))\n",
        "print(stats.spearmanr(trb_4months['max change in %'], trb_4months['Volume in $'].astype(float)))"
      ]
    },
    {
      "cell_type": "markdown",
      "metadata": {},
      "source": [
        "Here, we see, that correlation of 'volume in coin' is less than 'volume in $'. It can be explained by the fact, that this coin made +2900% in 4 months, and, the more coin cost, the less volume in that coin will be in future, though volume in usdt is same. Spearman correlation prove this."
      ]
    },
    {
      "cell_type": "markdown",
      "metadata": {},
      "source": [
        "#### Low cap, one marketmaker (ASR)"
      ]
    },
    {
      "cell_type": "code",
      "execution_count": 8,
      "metadata": {},
      "outputs": [
        {
          "name": "stdout",
          "output_type": "stream",
          "text": [
            "PearsonRResult(statistic=0.830087780201999, pvalue=2.365193969597473e-140)\n",
            "PearsonRResult(statistic=0.8273520070104575, pvalue=1.2261923667955437e-138)\n",
            "SignificanceResult(statistic=0.6966985961839451, pvalue=1.1687466544586725e-80)\n",
            "SignificanceResult(statistic=0.69284549811405, pvalue=1.972522938080914e-79)\n"
          ]
        }
      ],
      "source": [
        "asr_4months=client.get_historical_klines(\"ASRUSDT\", Client.KLINE_INTERVAL_4HOUR, \"1 Dec, 2023\", \"1 Mar, 2024\")\n",
        "asr_4months=beautify(asr_4months)\n",
        "\n",
        "asr_4months['max change in %']=abs(asr_4months['High'].astype(float)/asr_4months['Low'].astype(float)-1)*100\n",
        "\n",
        "print(stats.pearsonr(asr_4months['max change in %'], asr_4months['Volume in Coin'].astype(float)))\n",
        "print(stats.pearsonr(asr_4months['max change in %'], asr_4months['Volume in $'].astype(float)))\n",
        "\n",
        "print(stats.spearmanr(asr_4months['max change in %'], asr_4months['Volume in Coin'].astype(float)))\n",
        "print(stats.spearmanr(asr_4months['max change in %'], asr_4months['Volume in $'].astype(float)))"
      ]
    },
    {
      "cell_type": "markdown",
      "metadata": {},
      "source": [
        "Volatility of this coin is much less, but still correaltions are strong."
      ]
    },
    {
      "cell_type": "markdown",
      "metadata": {},
      "source": [
        "#### Low cap, no marketmaker\n",
        "\n",
        "There is no such"
      ]
    },
    {
      "cell_type": "markdown",
      "metadata": {},
      "source": [
        "#### Abusing volume - price\n",
        "\n",
        "Marketmaker need a lot of *liquidity* to open/close positions. Thats why they cant open their position without moving the price. So, with skill of detecting anomaly buy/sell and *vertical volume*, we can probably know what is the average position price of market maker.\n",
        "\n",
        "Another fact: people dont want to lose money. Even theoretically. So marketmaker does. When price will go against him, he will do everything, to not be in losers. Somehow (another topic) price will go in his favor and he will back to profit. Here another inefectivity=advantage."
      ]
    },
    {
      "cell_type": "markdown",
      "metadata": {},
      "source": [
        "#### Conclusions\n",
        "\n",
        "Hypothesis was true, Pearson correlation >0.8, spearman >=0.7 in every case state that there is strong correlation. Probably, trading algorithms are making this correlation so high. \n",
        "\n",
        "But why it not 1? When it happens so either large volume and low volatility, either low volume and high volatility? Answer, Inefecivities: high buy volume (Elon Musk make a tweet \"Doge to the moon\") can meet high resistance (Elon Musk sells doge) (high volume, low volatility).Or, nobody wants to sell, and its very cheap to move coin up (low volume, high volatility)."
      ]
    },
    {
      "cell_type": "markdown",
      "metadata": {
        "id": "oJntYXugZnpu"
      },
      "source": [
        "### Correlation between coins\n",
        "\n"
      ]
    },
    {
      "cell_type": "markdown",
      "metadata": {
        "id": "pwrnhb02yujb"
      },
      "source": [
        "#### market correlation to btc\n",
        "\n",
        "The most famous cryptocurrency - bitcoin. But there is lots of others. And most of them correlate with bitcoin price."
      ]
    },
    {
      "cell_type": "code",
      "execution_count": 9,
      "metadata": {
        "id": "xT3DRWBwcGR0"
      },
      "outputs": [
        {
          "name": "stdout",
          "output_type": "stream",
          "text": [
            "SignificanceResult(statistic=0.6938461538461538, pvalue=0.00011975873931514003)\n",
            "SignificanceResult(statistic=0.8792529206804673, pvalue=4.140657392975309e-94)\n",
            "SignificanceResult(statistic=0.3892307692307692, pvalue=0.05446248064417652)\n",
            "SignificanceResult(statistic=0.7231724300589557, pvalue=6.97775762758258e-48)\n",
            "SignificanceResult(statistic=0.41846153846153844, pvalue=0.03735881098217247)\n",
            "SignificanceResult(statistic=0.6223783539552601, pvalue=2.8045295814675187e-32)\n",
            "SignificanceResult(statistic=0.23153846153846153, pvalue=0.2654333714204926)\n",
            "SignificanceResult(statistic=0.7690996318358815, pvalue=1.529884945470361e-57)\n"
          ]
        }
      ],
      "source": [
        "def correlation_4hour(coin1,coin2):\n",
        "    coin1_klines=client.get_historical_klines(coin1, Client.KLINE_INTERVAL_4HOUR, \"29 Feb, 2024\", \"4 Mar, 2024\")\n",
        "    coin1_klines=beautify(coin1_klines)\n",
        "    coin1_klines['price change in %']=(coin1_klines['Open'].astype(float)/coin1_klines['Close'].astype(float)-1)*100\n",
        "    coin2_klines=client.get_historical_klines(coin2, Client.KLINE_INTERVAL_4HOUR, \"29 Feb, 2024\", \"4 Mar, 2024\")\n",
        "    coin2_klines=beautify(coin2_klines)\n",
        "    coin2_klines['price change in %']=(coin2_klines['Open'].astype(float)/coin2_klines['Close'].astype(float)-1)*100\n",
        "    # want to know spearman just to see if there is movements in same direction\n",
        "    print(stats.spearmanr(coin1_klines['price change in %'],coin2_klines['price change in %']))\n",
        "\n",
        "def correlation_5min(coin1,coin2):\n",
        "    coin1_klines=client.get_historical_klines(coin1, Client.KLINE_INTERVAL_5MINUTE, \"1 day ago UTC\")\n",
        "    coin1_klines=beautify(coin1_klines)\n",
        "    coin1_klines['price change in %']=(coin1_klines['Open'].astype(float)/coin1_klines['Close'].astype(float)-1)*100\n",
        "    coin2_klines=client.get_historical_klines(coin2, Client.KLINE_INTERVAL_5MINUTE, \"1 day ago UTC\")\n",
        "    coin2_klines=beautify(coin2_klines)\n",
        "    coin2_klines['price change in %']=(coin2_klines['Open'].astype(float)/coin2_klines['Close'].astype(float)-1)*100\n",
        "    # want to know spearman just to see if there is movements in same direction\n",
        "    print(stats.spearmanr(coin1_klines['price change in %'],coin2_klines['price change in %']))\n",
        "\n",
        "coins_to_check=['ETHUSDT','SOLUSDT','DOGEUSDT','PEPEUSDT']\n",
        "for coin1 in coins_to_check:\n",
        "    correlation_4hour(coin1,'BTCUSDT')\n",
        "    correlation_5min (coin1,'BTCUSDT')"
      ]
    },
    {
      "cell_type": "markdown",
      "metadata": {
        "id": "Fhz-MtNHcGu-"
      },
      "source": [
        "So, we take 4 large cap coins, and indeed, they correlate with btc moves.\n",
        "\n",
        "As we see, most of coins have generally have 0.4-0.6% correlation. This again can be used in speculations. Every coins have different candlestick pattern. Sometimes this patterns are more structured than btc have and have higher probability of profit trade.\n",
        "\n",
        "Also 5min correlation is much larger than 4hour, because of algorithms. "
      ]
    },
    {
      "cell_type": "markdown",
      "metadata": {
        "id": "At7I9Yqpx3x1"
      },
      "source": [
        "#### L2,L3 correlation to L1\n",
        "\n",
        "Also there is such thing as L2, L3 protocols, which based on L1 - blockchain itself. I.e. Polygon (MATIC) is based on Ethereium (ETH), and thus their price may correlate."
      ]
    },
    {
      "cell_type": "code",
      "execution_count": 10,
      "metadata": {
        "id": "uwB5ifVQzEsb"
      },
      "outputs": [
        {
          "name": "stdout",
          "output_type": "stream",
          "text": [
            "SignificanceResult(statistic=0.6784615384615386, pvalue=0.00019317889487445542)\n",
            "SignificanceResult(statistic=0.8107466858448309, pvalue=1.7971324171771622e-68)\n",
            "Maybe they correlate through btc?\n",
            "SignificanceResult(statistic=0.45999999999999996, pvalue=0.020686192908586393)\n",
            "SignificanceResult(statistic=0.7450956308729274, pvalue=3.105034116877746e-52)\n",
            "SignificanceResult(statistic=0.6938461538461538, pvalue=0.00011975873931514003)\n",
            "SignificanceResult(statistic=0.8792549300925536, pvalue=4.13143767341715e-94)\n"
          ]
        }
      ],
      "source": [
        "correlation_4hour('MATICUSDT','ETHUSDT')\n",
        "correlation_5min ('MATICUSDT','ETHUSDT')\n",
        "print(\"Maybe they correlate through btc?\")\n",
        "correlation_4hour('MATICUSDT','BTCUSDT')\n",
        "correlation_5min ('MATICUSDT','BTCUSDT')\n",
        "correlation_4hour('ETHUSDT','BTCUSDT')\n",
        "correlation_5min ('ETHUSDT','BTCUSDT')"
      ]
    },
    {
      "cell_type": "markdown",
      "metadata": {},
      "source": [
        "we see that correlation of matic/eth > matic/usdt. This is the expected result."
      ]
    },
    {
      "cell_type": "markdown",
      "metadata": {
        "id": "7Qx71CoybkD2"
      },
      "source": [
        "#### Price distribution of correlated coins\n",
        "\n",
        "If coin movement is correlated, we can make a hypothesis\n",
        "\n",
        "Hypothesis 0: price distributions between correlated coins is same, i.e. comes from one distribution\n",
        "\n",
        "Hypothesis 1: price distributions between correlated is not same\n",
        "\n",
        "Test via 2sample kolmogorov-smirnov."
      ]
    },
    {
      "cell_type": "code",
      "execution_count": 11,
      "metadata": {
        "id": "zki55gAFclS3"
      },
      "outputs": [
        {
          "data": {
            "image/png": "[encoded data removed]",
            "text/plain": [
              "<Figure size 640x480 with 1 Axes>"
            ]
          },
          "metadata": {},
          "output_type": "display_data"
        },
        {
          "name": "stdout",
          "output_type": "stream",
          "text": [
            "prices:  68359.18 71769.54\n"
          ]
        },
        {
          "data": {
            "image/png": "[encoded data removed]",
            "text/plain": [
              "<Figure size 640x480 with 1 Axes>"
            ]
          },
          "metadata": {},
          "output_type": "display_data"
        },
        {
          "name": "stdout",
          "output_type": "stream",
          "text": [
            "prices:  3460.02 3665.84\n",
            "KstestResult(statistic=array([0.14230769]), pvalue=array([0.43985469]), statistic_location=array([0.54668733]), statistic_sign=array([1.]))\n"
          ]
        }
      ],
      "source": [
        "btc_klines=client.get_historical_klines(\"BTCUSDT\", Client.KLINE_INTERVAL_5MINUTE, \"1 day ago UTC\")\n",
        "btc_klines=beautify(btc_klines)\n",
        "bins_prices_btc, total_volume_by_bin_btc=bin_volume(btc_klines)\n",
        "# plot volume - bin graph\n",
        "plt.bar(total_volume_by_bin_btc.index, total_volume_by_bin_btc.values)\n",
        "plt.xlabel('Bins #')\n",
        "plt.ylabel('Volume in Coin')\n",
        "plt.title('Price-Volume Histogram')\n",
        "plt.show()\n",
        "print(\"prices: \",bins_prices_btc[0],bins_prices_btc[-1])\n",
        "\n",
        "eth_klines=client.get_historical_klines(\"ETHUSDT\", Client.KLINE_INTERVAL_5MINUTE, \"1 day ago UTC\")\n",
        "eth_klines=beautify(eth_klines)\n",
        "bins_prices_eth, total_volume_by_bin_eth=bin_volume(eth_klines)\n",
        "# plot volume - bin graph\n",
        "plt.bar(total_volume_by_bin_eth.index, total_volume_by_bin_eth.values)\n",
        "plt.xlabel('Bins #')\n",
        "plt.ylabel('Volume in Coin')\n",
        "plt.title('Price-Volume Histogram')\n",
        "plt.show()\n",
        "print(\"prices: \",bins_prices_eth[0],bins_prices_eth[-1])\n",
        "\n",
        "# kolmogorov-smirnov 2sample test\n",
        "total_volume_by_bin_normalized_btc = flat_scaler.fit_transform(total_volume_by_bin_btc.values.reshape(-1,1))\n",
        "total_volume_by_bin_normalized_eth = flat_scaler.fit_transform(total_volume_by_bin_eth.values.reshape(-1,1))\n",
        "print(kstest(total_volume_by_bin_normalized_btc, total_volume_by_bin_normalized_eth))"
      ]
    },
    {
      "cell_type": "markdown",
      "metadata": {},
      "source": [
        "test failed to reject null hypotheis(pvalue=0.44). In plots, we see that shape is very same. lower capitalisation coins have larger volatility, and have almost same movements as coin they correlate to, but different % change. This can be used in order to make portfolio more volatile"
      ]
    },
    {
      "cell_type": "markdown",
      "metadata": {},
      "source": [
        "### Takeaways\n",
        "\n",
        "1) Constantly increasing volume has direct effect on price, volatility on market\n",
        "2) Previously found ineffectivities can help to find good price for speculations\n",
        "\n",
        "Found inefectivities of market:\n",
        "1) Price distribution in flat is normal\n",
        "2) Large marketmaker position detected with volume analysis"
      ]
    }
  ],
  "metadata": {
    "colab": {
      "collapsed_sections": [
        "RaKOijS4WoyA",
        "AOQJsAcfTGAx",
        "oJntYXugZnpu",
        "pwrnhb02yujb",
        "At7I9Yqpx3x1"
      ],
      "provenance": []
    },
    "kernelspec": {
      "display_name": "Python 3",
      "name": "python3"
    },
    "language_info": {
      "codemirror_mode": {
        "name": "ipython",
        "version": 3
      },
      "file_extension": ".py",
      "mimetype": "text/x-python",
      "name": "python",
      "nbconvert_exporter": "python",
      "pygments_lexer": "ipython3",
      "version": "3.12.2"
    }
  },
  "nbformat": 4,
  "nbformat_minor": 0
}
